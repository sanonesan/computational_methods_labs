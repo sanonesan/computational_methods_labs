{
 "cells": [
  {
   "attachments": {},
   "cell_type": "markdown",
   "metadata": {},
   "source": [
    "<H1>Лабораторная работа №1 (ode)"
   ]
  },
  {
   "attachments": {},
   "cell_type": "markdown",
   "metadata": {},
   "source": [
    "<h2> Code for test </h2>\n",
    "\n",
    "```C++\n",
    "Test0<T> test0;\n",
    "\n",
    "    solver.output_folder = \"../output/test0_for_approximation_order/\";\n",
    "\n",
    "    t = 0;\n",
    "    t_final = 10;\n",
    "    solver.tol = 1e-6;\n",
    "\n",
    "\n",
    "    tau = 0.05;\n",
    "    solver.file_name = \"test0_tau_1e-2\";\n",
    "\n",
    "    solver.solve_ode_explicit_Euler(t, t_final, tau, test0._x0, test0._ode_system);\n",
    "    solver.solve_ode_2_step_symmetrical_scheme(t, t_final, tau, test0._x0, test0._ode_system);\n",
    "    solver.solve_ode_RK2_fix_step(t, t_final, tau, test0._x0, test0._ode_system);\n",
    "    solver.solve_ode_RK2_vary_step(t, t_final, tau, test0._x0, test0._ode_system);\n",
    "    solver.solve_ode_RK4_fix_step(t, t_final, tau, test0._x0, test0._ode_system);\n",
    "    solver.solve_ode_RK4_vary_step(t, t_final, tau, test0._x0, test0._ode_system);\n",
    "    solver.solve_ode_AB4(t, t_final, tau, test0._x0, test0._ode_system);\n",
    "    solver.solve_ode_Predictor_Corrector(t, t_final, tau, test0._x0, test0._ode_system);\n",
    "\n",
    "    tau = 0.025;\n",
    "    solver.file_name = \"test0_tau_1e-3\";\n",
    "\n",
    "    solver.solve_ode_explicit_Euler(t, t_final, tau, test0._x0, test0._ode_system);\n",
    "    solver.solve_ode_2_step_symmetrical_scheme(t, t_final, tau, test0._x0, test0._ode_system);\n",
    "    solver.solve_ode_RK2_fix_step(t, t_final, tau, test0._x0, test0._ode_system);\n",
    "    solver.solve_ode_RK2_vary_step(t, t_final, tau, test0._x0, test0._ode_system);\n",
    "    solver.solve_ode_RK4_fix_step(t, t_final, tau, test0._x0, test0._ode_system);\n",
    "    solver.solve_ode_RK4_vary_step(t, t_final, tau, test0._x0, test0._ode_system);\n",
    "    solver.solve_ode_AB4(t, t_final, tau, test0._x0, test0._ode_system);\n",
    "    solver.solve_ode_Predictor_Corrector(t, t_final, tau, test0._x0, test0._ode_system);\n",
    "\n",
    "    tau = 0.0125;\n",
    "    solver.file_name = \"test0_tau_1e-4\";\n",
    "\n",
    "    solver.solve_ode_explicit_Euler(t, t_final, tau, test0._x0, test0._ode_system);\n",
    "    solver.solve_ode_2_step_symmetrical_scheme(t, t_final, tau, test0._x0, test0._ode_system);\n",
    "    solver.solve_ode_RK2_fix_step(t, t_final, tau, test0._x0, test0._ode_system);\n",
    "    solver.solve_ode_RK2_vary_step(t, t_final, tau, test0._x0, test0._ode_system);\n",
    "    solver.solve_ode_RK4_fix_step(t, t_final, tau, test0._x0, test0._ode_system);\n",
    "    solver.solve_ode_RK4_vary_step(t, t_final, tau, test0._x0, test0._ode_system);\n",
    "    solver.solve_ode_AB4(t, t_final, tau, test0._x0, test0._ode_system);\n",
    "    solver.solve_ode_Predictor_Corrector(t, t_final, tau, test0._x0, test0._ode_system);\n",
    "```"
   ]
  },
  {
   "cell_type": "code",
   "execution_count": 351,
   "metadata": {},
   "outputs": [],
   "source": [
    "import pandas as pd\n",
    "import numpy as np\n",
    "\n",
    "out_dir = \"./output/test0_for_approximation_order/\"\n",
    "file_name_2 = \"test0_tau_1e-2\"\n",
    "file_name_3 = \"test0_tau_1e-3\"\n",
    "file_name_4 = \"test0_tau_1e-4\"\n",
    "\n",
    "# def test1_exact_solution(t, x, y):\n",
    "#     k = 20\n",
    "#     m = 0.03\n",
    "#     w = np.sqrt(k / m)\n",
    "#     alpha = 1 # np.sqrt(x0**2 + y0**2), where x0 = 1, y0 = 0\n",
    "\n",
    "#     return np.sqrt(x**2 + y**2) * np.cos(w * t + alpha);\n",
    "\n",
    "def func_get_norm(df1, df2, col: str, value: float):\n",
    "    new_df1 = df1.loc[df1[col] == value]\n",
    "    new_df2 = df2.loc[df2[col] == value]\n",
    "\n",
    "    return abs(new_df1[\"u0\"].values[0] - new_df2[\"u0\"].values[0])\n",
    "    \n",
    "\n"
   ]
  },
  {
   "attachments": {},
   "cell_type": "markdown",
   "metadata": {},
   "source": [
    "<H2> Явный метод Эйлера"
   ]
  },
  {
   "cell_type": "code",
   "execution_count": 352,
   "metadata": {},
   "outputs": [
    {
     "name": "stdout",
     "output_type": "stream",
     "text": [
      "1.0150219696686646\n"
     ]
    }
   ],
   "source": [
    "method_name = \"_ode_explicit_Euler_output\"\n",
    "\n",
    "df_2 = pd.read_csv(out_dir + file_name_2 + method_name + \".csv\")\n",
    "df_3 = pd.read_csv(out_dir + file_name_3 + method_name + \".csv\")\n",
    "df_4 = pd.read_csv(out_dir + file_name_4 + method_name + \".csv\")\n",
    "\n",
    "t = 0.5\n",
    "mas = []\n",
    "while t < 10.0:\n",
    "    \n",
    "\n",
    "    y1_y2 = func_get_norm(df_2, df_3, \"time\", t)\n",
    "    y2_y3 = func_get_norm(df_3, df_4, \"time\", t)\n",
    "\n",
    "    p = np.emath.logn(0.5, [y2_y3/y1_y2])[0]\n",
    "    mas.append(p)\n",
    "    t+=0.5\n",
    "\n",
    "print(np.mean(mas))\n"
   ]
  },
  {
   "attachments": {},
   "cell_type": "markdown",
   "metadata": {},
   "source": [
    "<h2> Симметричная схема"
   ]
  },
  {
   "cell_type": "code",
   "execution_count": 353,
   "metadata": {},
   "outputs": [
    {
     "name": "stdout",
     "output_type": "stream",
     "text": [
      "2.0098627147932158\n"
     ]
    }
   ],
   "source": [
    "\n",
    "method_name = \"_ode_2_step_symmetrical_scheme_output\"\n",
    "\n",
    "df_2 = pd.read_csv(out_dir + file_name_2 + method_name + \".csv\")\n",
    "df_3 = pd.read_csv(out_dir + file_name_3 + method_name + \".csv\")\n",
    "df_4 = pd.read_csv(out_dir + file_name_4 + method_name + \".csv\")\n",
    "\n",
    "t = 0.5\n",
    "mas = []\n",
    "while t < 10.0:\n",
    "    \n",
    "\n",
    "    y1_y2 = func_get_norm(df_2, df_3, \"time\", t)\n",
    "    y2_y3 = func_get_norm(df_3, df_4, \"time\", t)\n",
    "\n",
    "    p = np.emath.logn(0.5, [y2_y3/y1_y2])[0]\n",
    "    mas.append(p)\n",
    "    t+=0.5\n",
    "\n",
    "print(np.mean(mas))"
   ]
  },
  {
   "attachments": {},
   "cell_type": "markdown",
   "metadata": {},
   "source": [
    "<H2> Метод Рунге-Кутты 2 порядка (с постоянным шагом)"
   ]
  },
  {
   "cell_type": "code",
   "execution_count": 354,
   "metadata": {},
   "outputs": [
    {
     "name": "stdout",
     "output_type": "stream",
     "text": [
      "2.0098627147932158\n"
     ]
    }
   ],
   "source": [
    "method_name = \"_ode_RK2_fix_step_output\"\n",
    "\n",
    "df_2 = pd.read_csv(out_dir + file_name_2 + method_name + \".csv\")\n",
    "df_3 = pd.read_csv(out_dir + file_name_3 + method_name + \".csv\")\n",
    "df_4 = pd.read_csv(out_dir + file_name_4 + method_name + \".csv\")\n",
    "\n",
    "t = 0.5\n",
    "mas = []\n",
    "while t < 10.0:\n",
    "    \n",
    "\n",
    "    y1_y2 = func_get_norm(df_2, df_3, \"time\", t)\n",
    "    y2_y3 = func_get_norm(df_3, df_4, \"time\", t)\n",
    "\n",
    "    p = np.emath.logn(0.5, [y2_y3/y1_y2])[0]\n",
    "    mas.append(p)\n",
    "    t+=0.5\n",
    "\n",
    "print(np.mean(mas))"
   ]
  },
  {
   "attachments": {},
   "cell_type": "markdown",
   "metadata": {},
   "source": [
    "<H2> Метод Рунге-Кутты 4 порядка (с постоянным шагом)"
   ]
  },
  {
   "cell_type": "code",
   "execution_count": 361,
   "metadata": {},
   "outputs": [
    {
     "name": "stdout",
     "output_type": "stream",
     "text": [
      "4.182449842582534\n"
     ]
    },
    {
     "name": "stderr",
     "output_type": "stream",
     "text": [
      "/home/san/anaconda3/lib/python3.9/site-packages/numpy/lib/scimath.py:378: RuntimeWarning: divide by zero encountered in log\n",
      "  return nx.log(x)/nx.log(n)\n"
     ]
    }
   ],
   "source": [
    "method_name = \"_ode_RK4_fix_step_output\"\n",
    "\n",
    "df_2 = pd.read_csv(out_dir + file_name_2 + method_name + \".csv\")\n",
    "df_3 = pd.read_csv(out_dir + file_name_3 + method_name + \".csv\")\n",
    "df_4 = pd.read_csv(out_dir + file_name_4 + method_name + \".csv\")\n",
    "\n",
    "t = 0.5\n",
    "mas = []\n",
    "while t < 10.0:\n",
    "    \n",
    "\n",
    "    y1_y2 = func_get_norm(df_2, df_3, \"time\", t)\n",
    "    y2_y3 = func_get_norm(df_3, df_4, \"time\", t)\n",
    "\n",
    "    p = np.emath.logn(0.5, [y2_y3/y1_y2])[0]\n",
    "    if p != np.inf:\n",
    "        mas.append(p)\n",
    "    t+=0.5\n",
    "\n",
    "print(np.mean(mas))"
   ]
  },
  {
   "attachments": {},
   "cell_type": "markdown",
   "metadata": {},
   "source": [
    "<H2> Метод Адамса-Башфорта 4 порядка (первые 3 шага --- метод Рунге-Кутты 4 порядка)"
   ]
  },
  {
   "cell_type": "code",
   "execution_count": 364,
   "metadata": {},
   "outputs": [
    {
     "name": "stdout",
     "output_type": "stream",
     "text": [
      "6.297680553768581\n",
      "3.233188343843112\n"
     ]
    }
   ],
   "source": [
    "method_name = \"_ode_AB4_output\"\n",
    "\n",
    "df_2 = pd.read_csv(out_dir + file_name_2 + method_name + \".csv\")\n",
    "df_3 = pd.read_csv(out_dir + file_name_3 + method_name + \".csv\")\n",
    "df_4 = pd.read_csv(out_dir + file_name_4 + method_name + \".csv\")\n",
    "\n",
    "\n",
    "t = 0.5\n",
    "mas = []\n",
    "while t < 10.0:\n",
    "    \n",
    "\n",
    "    y1_y2 = func_get_norm(df_2, df_3, \"time\", t)\n",
    "    y2_y3 = func_get_norm(df_3, df_4, \"time\", t)\n",
    "\n",
    "    p = np.emath.logn(0.5, [y2_y3/y1_y2])[0]\n",
    "    if p != np.inf:\n",
    "        mas.append(p)\n",
    "    t+=0.5\n",
    "\n",
    "\n",
    "print(np.max(mas))\n",
    "print(np.mean(mas))\n"
   ]
  },
  {
   "attachments": {},
   "cell_type": "markdown",
   "metadata": {},
   "source": [
    "<H2> Метод прогноз-коррекция"
   ]
  },
  {
   "cell_type": "code",
   "execution_count": 365,
   "metadata": {},
   "outputs": [
    {
     "name": "stdout",
     "output_type": "stream",
     "text": [
      "[1.1658226709251662, 0.9956160602603815, 1.008274653047679, 1.0188214390280164, 0.9992679882265617, 1.0104242232821723, 1.017517057307752, 0.9924458816440132, 1.0096071873881414, 1.0159611671682351]\n",
      "1.023375832827812\n"
     ]
    }
   ],
   "source": [
    "method_name = \"_ode_Predictor_Corrector_output\"\n",
    "\n",
    "df_2 = pd.read_csv(out_dir + file_name_2 + method_name + \".csv\")\n",
    "df_3 = pd.read_csv(out_dir + file_name_3 + method_name + \".csv\")\n",
    "df_4 = pd.read_csv(out_dir + file_name_4 + method_name + \".csv\")\n",
    "\n",
    "t = 0.5\n",
    "mas = []\n",
    "while t < 10.0:\n",
    "    \n",
    "\n",
    "    y1_y2 = func_get_norm(df_2, df_3, \"time\", t)\n",
    "    y2_y3 = func_get_norm(df_3, df_4, \"time\", t)\n",
    "\n",
    "    p = np.emath.logn(0.5, [y2_y3/y1_y2])[0]\n",
    "    mas.append(p)\n",
    "    t+=1\n",
    "\n",
    "print(mas)\n",
    "print(np.mean(mas))"
   ]
  },
  {
   "cell_type": "code",
   "execution_count": null,
   "metadata": {},
   "outputs": [],
   "source": []
  }
 ],
 "metadata": {
  "kernelspec": {
   "display_name": "base",
   "language": "python",
   "name": "python3"
  },
  "language_info": {
   "codemirror_mode": {
    "name": "ipython",
    "version": 3
   },
   "file_extension": ".py",
   "mimetype": "text/x-python",
   "name": "python",
   "nbconvert_exporter": "python",
   "pygments_lexer": "ipython3",
   "version": "3.9.15"
  },
  "orig_nbformat": 4
 },
 "nbformat": 4,
 "nbformat_minor": 2
}
