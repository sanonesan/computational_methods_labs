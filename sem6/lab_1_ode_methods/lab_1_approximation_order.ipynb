{
 "cells": [
  {
   "attachments": {},
   "cell_type": "markdown",
   "metadata": {},
   "source": [
    "<H1>Лабораторная работа №1 (ode)"
   ]
  },
  {
   "cell_type": "code",
   "execution_count": 118,
   "metadata": {},
   "outputs": [],
   "source": [
    "import pandas as pd\n",
    "import numpy as np\n",
    "\n",
    "out_dir = \"./output/\"\n",
    "file_name_2 = \"test1_tau_1e-2\"\n",
    "file_name_3 = \"test1_tau_1e-3\"\n",
    "file_name_4 = \"test1_tau_1e-4\"\n",
    "\n",
    "\n",
    "def test1_exact_solution(t, x, y):\n",
    "    k = 20\n",
    "    m = 0.03\n",
    "    w = np.sqrt(k / m)\n",
    "    alpha = 1 # np.sqrt(x0**2 + y0**2), where x0 = 1, y0 = 0\n",
    "\n",
    "    return np.sqrt(x**2 + y**2) * np.cos(w * t + alpha);\n",
    "\n",
    "def func_get_norm(df1, df2, col: str, value: float):\n",
    "    new_df1 = df1.loc[df1[col] == value]\n",
    "    new_df2 = df2.loc[df2[col] == value]\n",
    "    vec = np.array([\n",
    "        new_df1[\"u0\"].values[0] - new_df2[\"u0\"].values[0],\n",
    "        new_df1[\"u1\"].values[0] - new_df2[\"u1\"].values[0]\n",
    "        ])\n",
    "    return np.sqrt(vec[0]**2 + vec[1] ** 2)\n",
    "\n",
    "\n",
    "# t_2 = df_2[\"time\"]\n",
    "# x_2 = df_2[\"u0\"]\n",
    "# y_2 = df_2[\"u1\"]\n",
    "\n",
    "# t_3 = df_3[\"time\"]\n",
    "# x_3 = df_3[\"u0\"]\n",
    "# y_3 = df_3[\"u1\"]\n",
    "\n",
    "# t_4 = df_4[\"time\"]\n",
    "# x_4 = df_4[\"u0\"]\n",
    "# y_4 = df_4[\"u1\"]\n",
    "\n",
    "\n",
    "# print(df_2.loc[df_2[\"time\"] == 10.00])\n",
    "# print(df_3.loc[df_3[\"time\"] == 10.00])\n",
    "# print(df_4.loc[df_4[\"time\"] == 10.00])\n",
    "\n"
   ]
  },
  {
   "attachments": {},
   "cell_type": "markdown",
   "metadata": {},
   "source": [
    "<H2> Явный метод Эйлера"
   ]
  },
  {
   "cell_type": "code",
   "execution_count": 139,
   "metadata": {},
   "outputs": [
    {
     "name": "stdout",
     "output_type": "stream",
     "text": [
      "[3.42128971]\n"
     ]
    }
   ],
   "source": [
    "method_name = \"_ode_explicit_Euler_output\"\n",
    "\n",
    "df_2 = pd.read_csv(out_dir + file_name_2 + method_name + \".csv\")\n",
    "df_3 = pd.read_csv(out_dir + file_name_3 + method_name + \".csv\")\n",
    "df_4 = pd.read_csv(out_dir + file_name_4 + method_name + \".csv\")\n",
    "\n",
    "\n",
    "y1_y2 = func_get_norm(df_2, df_3, \"time\", 20.00)\n",
    "y2_y3 = func_get_norm(df_3, df_4, \"time\", 20.00)\n",
    "\n",
    "p = np.emath.logn(0.1, [y2_y3 / y1_y2])\n",
    "\n",
    "print(p)"
   ]
  },
  {
   "attachments": {},
   "cell_type": "markdown",
   "metadata": {},
   "source": [
    "<H2> Невный метод Эйлера"
   ]
  },
  {
   "cell_type": "code",
   "execution_count": 160,
   "metadata": {},
   "outputs": [
    {
     "name": "stdout",
     "output_type": "stream",
     "text": [
      "0.24566554441762514\n"
     ]
    }
   ],
   "source": [
    "method_name = \"_ode_implicit_Euler_output\"\n",
    "\n",
    "df_2 = pd.read_csv(out_dir + file_name_2 + method_name + \".csv\")\n",
    "df_3 = pd.read_csv(out_dir + file_name_3 + method_name + \".csv\")\n",
    "df_4 = pd.read_csv(out_dir + file_name_4 + method_name + \".csv\")\n",
    "\n",
    "t = 15.00\n",
    "y1_y2 = func_get_norm(df_2, df_3, \"time\", t)\n",
    "y2_y3 = func_get_norm(df_3, df_4, \"time\", t)\n",
    "\n",
    "p = 1 / np.log(0.1) * np.log(y2_y3 / y1_y2)\n",
    "\n",
    "print(p)"
   ]
  },
  {
   "attachments": {},
   "cell_type": "markdown",
   "metadata": {},
   "source": [
    "<h2> Симметричная схема"
   ]
  },
  {
   "cell_type": "code",
   "execution_count": 129,
   "metadata": {},
   "outputs": [
    {
     "name": "stdout",
     "output_type": "stream",
     "text": [
      "[2.00255233]\n"
     ]
    }
   ],
   "source": [
    "method_name = \"_ode_2_step_symmetrical_scheme_output\"\n",
    "\n",
    "df_2 = pd.read_csv(out_dir + file_name_2 + method_name + \".csv\")\n",
    "df_3 = pd.read_csv(out_dir + file_name_3 + method_name + \".csv\")\n",
    "df_4 = pd.read_csv(out_dir + file_name_4 + method_name + \".csv\")\n",
    "\n",
    "\n",
    "y1_y2 = func_get_norm(df_2, df_3, \"time\", 20.00)\n",
    "y2_y3 = func_get_norm(df_3, df_4, \"time\", 20.00)\n",
    "\n",
    "p = np.emath.logn(0.1, [y2_y3/y1_y2])\n",
    "\n",
    "print(p)"
   ]
  },
  {
   "attachments": {},
   "cell_type": "markdown",
   "metadata": {},
   "source": [
    "<H2> Метод Рунге-Кутты 2 порядка (с постоянным шагом)"
   ]
  },
  {
   "cell_type": "code",
   "execution_count": 131,
   "metadata": {},
   "outputs": [
    {
     "name": "stdout",
     "output_type": "stream",
     "text": [
      "[1.07977396]\n"
     ]
    }
   ],
   "source": [
    "method_name = \"_ode_RK2_fix_step_output\"\n",
    "\n",
    "df_2 = pd.read_csv(out_dir + file_name_2 + method_name + \".csv\")\n",
    "df_3 = pd.read_csv(out_dir + file_name_3 + method_name + \".csv\")\n",
    "df_4 = pd.read_csv(out_dir + file_name_4 + method_name + \".csv\")\n",
    "\n",
    "\n",
    "y1_y2 = func_get_norm(df_2, df_3, \"time\", 1.00)\n",
    "y2_y3 = func_get_norm(df_3, df_4, \"time\", 1.00)\n",
    "\n",
    "p = np.emath.logn(0.1, [y2_y3/y1_y2])\n",
    "\n",
    "print(p)"
   ]
  },
  {
   "attachments": {},
   "cell_type": "markdown",
   "metadata": {},
   "source": [
    "<H2> Метод Рунге-Кутты 2 порядка (с меняющимся шагом)"
   ]
  },
  {
   "cell_type": "code",
   "execution_count": 110,
   "metadata": {},
   "outputs": [
    {
     "name": "stdout",
     "output_type": "stream",
     "text": [
      "[0.2528458]\n"
     ]
    }
   ],
   "source": [
    "method_name = \"_ode_RK2_vary_step_output\"\n",
    "\n",
    "df_2 = pd.read_csv(out_dir + file_name_2 + method_name + \".csv\")\n",
    "df_3 = pd.read_csv(out_dir + file_name_3 + method_name + \".csv\")\n",
    "df_4 = pd.read_csv(out_dir + file_name_4 + method_name + \".csv\")\n",
    "\n",
    "\n",
    "y1_y2 = func_get_norm(df_2, df_3, \"time\", 10.00)\n",
    "y2_y3 = func_get_norm(df_3, df_4, \"time\", 10.00)\n",
    "\n",
    "p = np.emath.logn(0.1, [y2_y3/y1_y2])\n",
    "\n",
    "print(p)"
   ]
  },
  {
   "attachments": {},
   "cell_type": "markdown",
   "metadata": {},
   "source": [
    "<H2> Метод Рунге-Кутты 4 порядка (с постоянным шагом)"
   ]
  },
  {
   "cell_type": "code",
   "execution_count": 132,
   "metadata": {},
   "outputs": [
    {
     "name": "stdout",
     "output_type": "stream",
     "text": [
      "[3.42128971]\n"
     ]
    }
   ],
   "source": [
    "method_name = \"_ode_RK4_fix_step_output\"\n",
    "\n",
    "df_2 = pd.read_csv(out_dir + file_name_2 + method_name + \".csv\")\n",
    "df_3 = pd.read_csv(out_dir + file_name_3 + method_name + \".csv\")\n",
    "df_4 = pd.read_csv(out_dir + file_name_4 + method_name + \".csv\")\n",
    "\n",
    "\n",
    "y1_y2 = func_get_norm(df_2, df_3, \"time\", 20.00)\n",
    "y2_y3 = func_get_norm(df_3, df_4, \"time\", 20.00)\n",
    "\n",
    "p = np.emath.logn(0.1, [y2_y3/y1_y2])\n",
    "\n",
    "print(p)"
   ]
  },
  {
   "attachments": {},
   "cell_type": "markdown",
   "metadata": {},
   "source": [
    "<H2> Метод Рунге-Кутты 4 порядка (с меняющимся шагом)"
   ]
  },
  {
   "cell_type": "code",
   "execution_count": 108,
   "metadata": {},
   "outputs": [
    {
     "name": "stdout",
     "output_type": "stream",
     "text": [
      "[-0.36970242]\n"
     ]
    }
   ],
   "source": [
    "method_name = \"_ode_RK4_vary_step_output\"\n",
    "\n",
    "df_2 = pd.read_csv(out_dir + file_name_2 + method_name + \".csv\")\n",
    "df_3 = pd.read_csv(out_dir + file_name_3 + method_name + \".csv\")\n",
    "df_4 = pd.read_csv(out_dir + file_name_4 + method_name + \".csv\")\n",
    "\n",
    "\n",
    "y1_y2 = func_get_norm(df_2, df_3, \"time\", 10.00)\n",
    "y2_y3 = func_get_norm(df_3, df_4, \"time\", 10.00)\n",
    "\n",
    "p = np.emath.logn(0.1, [y2_y3/y1_y2])\n",
    "\n",
    "print(p)"
   ]
  },
  {
   "attachments": {},
   "cell_type": "markdown",
   "metadata": {},
   "source": [
    "<H2> Метод Адамса-Башфорта 4 порядка (первые 3 шага --- метод Рунге-Кутты 4 порядка)"
   ]
  },
  {
   "cell_type": "code",
   "execution_count": 107,
   "metadata": {},
   "outputs": [
    {
     "name": "stdout",
     "output_type": "stream",
     "text": [
      "[2.24123583]\n"
     ]
    }
   ],
   "source": [
    "method_name = \"_ode_AB4_output\"\n",
    "\n",
    "df_2 = pd.read_csv(out_dir + file_name_2 + method_name + \".csv\")\n",
    "df_3 = pd.read_csv(out_dir + file_name_3 + method_name + \".csv\")\n",
    "df_4 = pd.read_csv(out_dir + file_name_4 + method_name + \".csv\")\n",
    "\n",
    "\n",
    "y1_y2 = func_get_norm(df_2, df_3, \"time\", 10.00)\n",
    "y2_y3 = func_get_norm(df_3, df_4, \"time\", 10.00)\n",
    "\n",
    "p = np.emath.logn(0.1, [y2_y3/y1_y2])\n",
    "\n",
    "print(p)"
   ]
  },
  {
   "attachments": {},
   "cell_type": "markdown",
   "metadata": {},
   "source": [
    "<H2> Метод прогноз-коррекция"
   ]
  },
  {
   "cell_type": "code",
   "execution_count": 104,
   "metadata": {},
   "outputs": [
    {
     "name": "stdout",
     "output_type": "stream",
     "text": [
      "[2.88000854]\n"
     ]
    }
   ],
   "source": [
    "method_name = \"_ode_Predictor_Corrector_output\"\n",
    "\n",
    "df_2 = pd.read_csv(out_dir + file_name_2 + method_name + \".csv\")\n",
    "df_3 = pd.read_csv(out_dir + file_name_3 + method_name + \".csv\")\n",
    "df_4 = pd.read_csv(out_dir + file_name_4 + method_name + \".csv\")\n",
    "\n",
    "\n",
    "y1_y2 = func_get_norm(df_2, df_3, \"time\", 10.00)\n",
    "y2_y3 = func_get_norm(df_3, df_4, \"time\", 10.00)\n",
    "\n",
    "p = np.emath.logn(0.01, [y2_y3/y1_y2])\n",
    "\n",
    "print(p)"
   ]
  },
  {
   "cell_type": "code",
   "execution_count": null,
   "metadata": {},
   "outputs": [],
   "source": []
  }
 ],
 "metadata": {
  "kernelspec": {
   "display_name": "base",
   "language": "python",
   "name": "python3"
  },
  "language_info": {
   "codemirror_mode": {
    "name": "ipython",
    "version": 3
   },
   "file_extension": ".py",
   "mimetype": "text/x-python",
   "name": "python",
   "nbconvert_exporter": "python",
   "pygments_lexer": "ipython3",
   "version": "3.9.15"
  },
  "orig_nbformat": 4
 },
 "nbformat": 4,
 "nbformat_minor": 2
}
