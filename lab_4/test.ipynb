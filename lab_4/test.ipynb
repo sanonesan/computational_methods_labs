{
 "cells": [
  {
   "cell_type": "code",
   "execution_count": 24,
   "metadata": {},
   "outputs": [
    {
     "name": "stdout",
     "output_type": "stream",
     "text": [
      "[[-64.  -55.    4.   -5. ]\n",
      " [  0.  -55.   56.   -3. ]\n",
      " [  0.    0.   45.   35.5]\n",
      " [  0.    0.    0.  -53. ]]\n"
     ]
    },
    {
     "data": {
      "text/plain": [
       "(array([[ 1.,  0.,  0.,  0.],\n",
       "        [-0.,  1.,  0.,  0.],\n",
       "        [-0., -0.,  1.,  0.],\n",
       "        [-0., -0., -0.,  1.]]),\n",
       " array([[-64. , -55. ,   4. ,  -5. ],\n",
       "        [  0. , -55. ,  56. ,  -3. ],\n",
       "        [  0. ,   0. ,  45. ,  35.5],\n",
       "        [  0. ,   0. ,   0. , -53. ]]))"
      ]
     },
     "execution_count": 24,
     "metadata": {},
     "output_type": "execute_result"
    }
   ],
   "source": [
    "import numpy as np\n",
    "\n",
    "A = np.array([[-64,-55, 4, -5],[0, -55, 56, -3], [0, 0, 45, 35.5], [0,0,0,-53]])\n",
    "print(A)\n",
    "\n",
    "np.linalg.qr(A)\n"
   ]
  },
  {
   "cell_type": "code",
   "execution_count": null,
   "metadata": {},
   "outputs": [],
   "source": []
  }
 ],
 "metadata": {
  "kernelspec": {
   "display_name": "Python 3.9.12 ('base')",
   "language": "python",
   "name": "python3"
  },
  "language_info": {
   "codemirror_mode": {
    "name": "ipython",
    "version": 3
   },
   "file_extension": ".py",
   "mimetype": "text/x-python",
   "name": "python",
   "nbconvert_exporter": "python",
   "pygments_lexer": "ipython3",
   "version": "3.9.12"
  },
  "orig_nbformat": 4,
  "vscode": {
   "interpreter": {
    "hash": "1fab215601aa994e28b371f063ca7d3df6e06b6b86fd056beedefab9409cd2a9"
   }
  }
 },
 "nbformat": 4,
 "nbformat_minor": 2
}
